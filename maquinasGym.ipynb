{
 "cells": [
  {
   "cell_type": "code",
   "execution_count": 2,
   "id": "ede014ca-5b82-45d3-a1ec-8457304d4fc3",
   "metadata": {},
   "outputs": [
    {
     "name": "stdout",
     "output_type": "stream",
     "text": [
      "Error al insertar máquina: E11000 duplicate key error collection: FuturisFit.maquinas index: _id_ dup key: { _id: 1 }, full error: {'index': 0, 'code': 11000, 'errmsg': 'E11000 duplicate key error collection: FuturisFit.maquinas index: _id_ dup key: { _id: 1 }', 'keyPattern': {'_id': 1}, 'keyValue': {'_id': 1}}\n",
      "Error al insertar máquina: E11000 duplicate key error collection: FuturisFit.maquinas index: _id_ dup key: { _id: 2 }, full error: {'index': 0, 'code': 11000, 'errmsg': 'E11000 duplicate key error collection: FuturisFit.maquinas index: _id_ dup key: { _id: 2 }', 'keyPattern': {'_id': 1}, 'keyValue': {'_id': 2}}\n",
      "Error al insertar máquina: E11000 duplicate key error collection: FuturisFit.maquinas index: _id_ dup key: { _id: 3 }, full error: {'index': 0, 'code': 11000, 'errmsg': 'E11000 duplicate key error collection: FuturisFit.maquinas index: _id_ dup key: { _id: 3 }', 'keyPattern': {'_id': 1}, 'keyValue': {'_id': 3}}\n",
      "Máquinas insertadas correctamente.\n"
     ]
    }
   ],
   "source": [
    "from db_models.maquina_dao import Maquina\n",
    "# Cargar datos de varias máquinas\n",
    "maquinas_a_insertar = [\n",
    "    {\n",
    "        \"_id\": 1,  \n",
    "        \"nombre\": \"Caminadora A\",\n",
    "        \"tipo\": \"Cardio\",\n",
    "        \"estado\": \"Disponible\",\n",
    "        \"ubicacion\": \"Sala de Cardio\",\n",
    "        \"fecha_mantenimiento\": \"2024-09-25\" \n",
    "    },\n",
    "    {\n",
    "        \"_id\": 2,\n",
    "        \"nombre\": \"Bicicleta Estática B\",\n",
    "        \"tipo\": \"Cardio\",\n",
    "        \"estado\": \"Disponible\",\n",
    "        \"ubicacion\": \"Sala de Cardio\",\n",
    "        \"fecha_mantenimiento\": \"2024-08-15\"\n",
    "    },\n",
    "    {\n",
    "        \"_id\": 3,\n",
    "        \"nombre\": \"Máquina de Pesas C\",\n",
    "        \"tipo\": \"Fuerza\",\n",
    "        \"estado\": \"Ocupada\",\n",
    "        \"ubicacion\": \"Sala de Fuerza\",\n",
    "        \"fecha_mantenimiento\": \"2024-10-01\"\n",
    "    }\n",
    "]\n",
    "\n",
    "# Insertar las máquinas en la colección\n",
    "for maquina in maquinas_a_insertar:\n",
    "    Maquina.insertar_maquina(maquina[\"_id\"], maquina[\"nombre\"], maquina[\"tipo\"], maquina[\"estado\"], maquina[\"ubicacion\"], maquina[\"fecha_mantenimiento\"])\n",
    "\n",
    "print(\"Máquinas insertadas correctamente.\")\n"
   ]
  },
  {
   "cell_type": "code",
   "execution_count": 3,
   "id": "49f4433b-c939-414a-9742-f8fdfb1e6f8e",
   "metadata": {},
   "outputs": [
    {
     "name": "stdout",
     "output_type": "stream",
     "text": [
      "{'_id': 1, 'nombre': 'Caminadora A', 'tipo': 'Cardio', 'estado': 'Disponible', 'ubicacion': 'Sala de Cardio', 'fecha_mantenimiento': '2024-09-25'}\n",
      "{'_id': 2, 'nombre': 'Nuevo Nombre', 'tipo': 'Nuevo Tipo', 'estado': 'Disponible', 'ubicacion': 'Nueva Ubicación', 'fecha_mantenimiento': '2024-10-25'}\n",
      "{'_id': 3, 'nombre': 'Máquina de Pesas C', 'tipo': 'Fuerza', 'estado': 'Ocupada', 'ubicacion': 'Sala de Fuerza', 'fecha_mantenimiento': '2024-10-01'}\n"
     ]
    }
   ],
   "source": [
    "# Consultar y listar todas las máquinas\n",
    "maquinas = Maquina.consultar_maquinas()\n",
    "\n",
    "# Mostrar la lista de máquinas\n",
    "for maquina in maquinas:\n",
    "    print(maquina)\n"
   ]
  },
  {
   "cell_type": "code",
   "execution_count": 4,
   "id": "ff73f2be-ec37-4ff7-972f-096b31552dab",
   "metadata": {},
   "outputs": [
    {
     "name": "stdout",
     "output_type": "stream",
     "text": [
      "No se actualizó ninguna máquina o hubo un error.\n"
     ]
    }
   ],
   "source": [
    "# Definir el ID de la máquina a actualizar\n",
    "maquina_id = 2\n",
    "\n",
    "# Definir los nuevos datos que deseas actualizar\n",
    "nuevos_datos = {\n",
    "    \"nombre\": \"Nuevo Nombre\",  \n",
    "    \"tipo\": \"Nuevo Tipo\",      \n",
    "    \"ubicacion\": \"Nueva Ubicación\", \n",
    "    \"fecha_mantenimiento\": \"2024-10-25\"\n",
    "}\n",
    "\n",
    "# Llamar al método de actualización\n",
    "resultado = Maquina.actualizar_maquina(\n",
    "    maquina_id,\n",
    "    nombre=nuevos_datos[\"nombre\"],\n",
    "    tipo=nuevos_datos[\"tipo\"],\n",
    "    ubicacion=nuevos_datos[\"ubicacion\"],\n",
    "    fecha_mantenimiento=nuevos_datos[\"fecha_mantenimiento\"]\n",
    ")\n",
    "\n",
    "# Mostrar el resultado de la actualización\n",
    "if resultado:\n",
    "    print(f\"Se actualizó {resultado} máquina(s).\")\n",
    "else:\n",
    "    print(\"No se actualizó ninguna máquina o hubo un error.\")\n"
   ]
  },
  {
   "cell_type": "code",
   "execution_count": null,
   "id": "2b53cac1-9584-4d46-9cc1-2708612dfe35",
   "metadata": {},
   "outputs": [],
   "source": []
  }
 ],
 "metadata": {
  "kernelspec": {
   "display_name": "Python 3 (ipykernel)",
   "language": "python",
   "name": "python3"
  },
  "language_info": {
   "codemirror_mode": {
    "name": "ipython",
    "version": 3
   },
   "file_extension": ".py",
   "mimetype": "text/x-python",
   "name": "python",
   "nbconvert_exporter": "python",
   "pygments_lexer": "ipython3",
   "version": "3.12.2"
  }
 },
 "nbformat": 4,
 "nbformat_minor": 5
}
