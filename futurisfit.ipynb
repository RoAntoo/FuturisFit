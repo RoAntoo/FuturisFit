{
 "cells": [
  {
   "cell_type": "code",
   "execution_count": 7,
   "id": "e59ae8d2-e260-4fa8-b5da-234d1b91960d",
   "metadata": {},
   "outputs": [
    {
     "name": "stdout",
     "output_type": "stream",
     "text": [
      "Conexión establecida a MongoDB.\n",
      "\n",
      "Error: Ya existe un cliente con ID 0003.\n",
      "\n",
      "Cliente registrado exitosamente.\n",
      "\n"
     ]
    }
   ],
   "source": [
    "from fit import Fit\n",
    "\n",
    "# Creamos la instancia de Fit\n",
    "fit = Fit()\n",
    "\n",
    "# Llamamos al método para registrar un cliente\n",
    "fit.registrar_cliente(\n",
    "    _id=\"0003\",\n",
    "    nombre=\"franco\",\n",
    "    apellido=\"Pérez\",\n",
    "    fecha_nacimiento=\"1990-01-01\",\n",
    "    email=\"tornillo@example.com\",\n",
    "    telefono=\"123456789\"\n",
    ")\n",
    "\n",
    "# Confirmación de registro\n",
    "print(\"\\nCliente registrado exitosamente.\\n\")\n"
   ]
  },
  {
   "cell_type": "code",
   "execution_count": 8,
   "id": "860e39cf-a5b2-45ec-87a6-948f70b3c01c",
   "metadata": {},
   "outputs": [
    {
     "name": "stdout",
     "output_type": "stream",
     "text": [
      "Conexión establecida a MongoDB.\n",
      "\n",
      "Error: Ya existe un cliente con ID 0003.\n",
      "Error: Ya existe un cliente con ID 00987.\n",
      "Error: Ya existe un cliente con ID 0012.\n",
      "Cliente 0009 registrado exitosamente.\n"
     ]
    }
   ],
   "source": [
    "from fit import Fit\n",
    "\n",
    "# Creamos la instancia de Fit\n",
    "fit = Fit()\n",
    "\n",
    "# Llamamos al método para registrar un cliente\n",
    "fit.registrar_cliente(\n",
    "    _id=\"0003\",\n",
    "    nombre=\"franco\",\n",
    "    apellido=\"Pérez\",\n",
    "    fecha_nacimiento=\"1990-01-01\",\n",
    "    email=\"tornillo@example.com\",\n",
    "    telefono=\"123456789\"\n",
    ")\n",
    "\n",
    "fit.registrar_cliente(\n",
    "    _id=\"00987\",\n",
    "    nombre=\"Francisco\",\n",
    "    apellido=\"Martn\",\n",
    "    fecha_nacimiento=\"1990-01-01\",\n",
    "    email=\"jugatelanegreira@example.com\",\n",
    "    telefono=\"123456789\"\n",
    ")\n",
    "\n",
    "fit.registrar_cliente(\n",
    "    _id=\"0012\",\n",
    "    nombre=\"Lopez\",\n",
    "    apellido=\"Corcho\",\n",
    "    fecha_nacimiento=\"1985-05-15\",\n",
    "    email=\"armandocasas@example.com\",\n",
    "    telefono=\"987654321\"\n",
    ")\n",
    "\n",
    "fit.registrar_cliente(\n",
    "    _id=\"0009\",\n",
    "    nombre=\"Luis\",\n",
    "    apellido=\"Martínez\",\n",
    "    fecha_nacimiento=\"1992-08-20\",\n",
    "    email=\"Estebamnasd.com\",\n",
    "    telefono=\"456789123\"\n",
    ")"
   ]
  },
  {
   "cell_type": "code",
   "execution_count": 9,
   "id": "78bf1435-dee9-4d9c-85ae-ff3421a55b1a",
   "metadata": {},
   "outputs": [
    {
     "name": "stdout",
     "output_type": "stream",
     "text": [
      "Conexión establecida a MongoDB.\n",
      "\n",
      "\n",
      "No se encontró un cliente que coincida con la condición.\n",
      "\n",
      "No se encontró un cliente que coincida con la condición.\n"
     ]
    },
    {
     "data": {
      "text/plain": [
       "0"
      ]
     },
     "execution_count": 9,
     "metadata": {},
     "output_type": "execute_result"
    }
   ],
   "source": [
    "# Supongamos que tienes una instancia de la clase Fit\n",
    "\n",
    "fit_instance = Fit()\n",
    "\n",
    "# Eliminar un cliente por ID\n",
    "fit_instance.eliminar_cliente_mailnombre(_id=\"003\")\n",
    "\n",
    "# O eliminar un cliente por email\n",
    "fit_instance.eliminar_cliente_mailnombre(email=\"cliente@example.com\")\n"
   ]
  },
  {
   "cell_type": "code",
   "execution_count": 10,
   "id": "301720a6-5b7f-49cd-b3fe-48f06f9b0bc0",
   "metadata": {},
   "outputs": [
    {
     "name": "stdout",
     "output_type": "stream",
     "text": [
      "Conexión establecida a MongoDB.\n",
      "\n",
      "Lista de Clientes...\n",
      "ID: 005, Nombre: Juan, Apellido: Pérez, Email: ferchosadas, Teléfono: 123456789\n",
      "ID: 002, Nombre: Ana, Apellido: Gómez, Email: ana.gomez@example.com, Teléfono: 987654321\n",
      "ID: 0003, Nombre: franco, Apellido: Pérez, Email: tornillo@example.com, Teléfono: 123456789\n",
      "ID: 00987, Nombre: Francisco, Apellido: Martn, Email: jugatelanegreira@example.com, Teléfono: 123456789\n",
      "ID: 0012, Nombre: Lopez, Apellido: Corcho, Email: armandocasas@example.com, Teléfono: 987654321\n",
      "ID: 0009, Nombre: Luis, Apellido: Martínez, Email: Estebamnasd.com, Teléfono: 456789123\n"
     ]
    }
   ],
   "source": [
    "# Listar Clientes\n",
    "from fit import Fit\n",
    "\n",
    "# Crear una instancia de la clase Fit\n",
    "fit = Fit()\n",
    "\n",
    "# Usar el método listar_clientes para imprimir la lista de clientes\n",
    "print(\"Lista de Clientes...\")\n",
    "fit.listar_clientes()\n"
   ]
  },
  {
   "cell_type": "code",
   "execution_count": 18,
   "id": "096c64d1-0451-420a-bf03-77d405c12aa6",
   "metadata": {},
   "outputs": [
    {
     "name": "stdout",
     "output_type": "stream",
     "text": [
      "Error al insertar rutina: E11000 duplicate key error collection: FuturisFit.rutinas index: _id_ dup key: { _id: \"1032\" }, full error: {'index': 0, 'code': 11000, 'errmsg': 'E11000 duplicate key error collection: FuturisFit.rutinas index: _id_ dup key: { _id: \"1032\" }', 'keyPattern': {'_id': 1}, 'keyValue': {'_id': '1032'}}\n",
      "Error al insertar rutina: E11000 duplicate key error collection: FuturisFit.rutinas index: _id_ dup key: { _id: \"102\" }, full error: {'index': 0, 'code': 11000, 'errmsg': 'E11000 duplicate key error collection: FuturisFit.rutinas index: _id_ dup key: { _id: \"102\" }', 'keyPattern': {'_id': 1}, 'keyValue': {'_id': '102'}}\n",
      "Error al insertar rutina: E11000 duplicate key error collection: FuturisFit.rutinas index: _id_ dup key: { _id: \"103\" }, full error: {'index': 0, 'code': 11000, 'errmsg': 'E11000 duplicate key error collection: FuturisFit.rutinas index: _id_ dup key: { _id: \"103\" }', 'keyPattern': {'_id': 1}, 'keyValue': {'_id': '103'}}\n",
      "\n",
      "Se insertaron 0 rutinas con éxito.\n"
     ]
    }
   ],
   "source": [
    "# Insertar Rutinas\n",
    "from fit import Fit\n",
    "from db_models.rutina_dao import Rutina \n",
    "\n",
    "# Datos de las rutinas a insertar\n",
    "rutinas_a_insertar = [\n",
    "    {\n",
    "        \"_id\": \"1032\",  \n",
    "        \"id_cliente\": \"005\",  \n",
    "        \"nombre_rutina\": \"Rutina de Fuerza\",\n",
    "        \"objetivo\": \"Aumentar masa muscular\",\n",
    "        \"tipo_intensidad\": \"Baja\",\n",
    "        \"cantidad_series_rep\": 4,\n",
    "        \"tiempo_descanso\": 60\n",
    "    },\n",
    "    {\n",
    "        \"_id\": \"102\",\n",
    "        \"id_cliente\": \"005\",\n",
    "        \"nombre_rutina\": \"Rutina de Resistencia\",\n",
    "        \"objetivo\": \"Mejorar resistencia\",\n",
    "        \"tipo_intensidad\": \"Media\",\n",
    "        \"cantidad_series_rep\": 3,\n",
    "        \"tiempo_descanso\": 45\n",
    "    },\n",
    "    {\n",
    "        \"_id\": \"103\",\n",
    "        \"id_cliente\": \"005\",\n",
    "        \"nombre_rutina\": \"Rutina de Flexibilidad\",\n",
    "        \"objetivo\": \"Aumentar flexibilidad\",\n",
    "        \"tipo_intensidad\": \"Baja\",\n",
    "        \"cantidad_series_rep\": 5,\n",
    "        \"tiempo_descanso\": 30\n",
    "    }\n",
    "]\n",
    "\n",
    "# Crear una instancia de la clase Rutina\n",
    "rutina_dao = Rutina()\n",
    "\n",
    "# Insertar varias rutinas\n",
    "cantidad_insertadas = rutina_dao.insertar_varias_rutinas(rutinas_a_insertar)\n",
    "\n",
    "# Confirmar la inserción\n",
    "print(f\"\\nSe insertaron {cantidad_insertadas} rutinas con éxito.\")\n"
   ]
  },
  {
   "cell_type": "code",
   "execution_count": 12,
   "id": "5bae9200-ae5c-48de-900d-6ef69fb72d45",
   "metadata": {},
   "outputs": [
    {
     "name": "stdout",
     "output_type": "stream",
     "text": [
      "Rutinas de ejercicios:\n",
      "ID: 101, Nombre: Rutina de Fuerza, Objetivo: Aumentar masa muscular, Intensidad: Baja, Series/Repeticiones: 4, Descanso: 60 segundos\n",
      "\n",
      "ID: 102, Nombre: Rutina de Resistencia, Objetivo: Mejorar resistencia, Intensidad: Media, Series/Repeticiones: 3, Descanso: 45 segundos\n",
      "\n",
      "ID: 103, Nombre: Rutina de Flexibilidad, Objetivo: Aumentar flexibilidad, Intensidad: Baja, Series/Repeticiones: 5, Descanso: 30 segundos\n",
      "\n",
      "ID: 1032, Nombre: Rutina de Fuerza, Objetivo: Aumentar masa muscular, Intensidad: Baja, Series/Repeticiones: 4, Descanso: 60 segundos\n",
      "\n"
     ]
    }
   ],
   "source": [
    "#consultar todas las rutinas de ejercicios\n",
    "rutinas = Rutina.consultar_rutinas()\n",
    "\n",
    "# Listar las rutinas\n",
    "print(\"Rutinas de ejercicios:\")\n",
    "if rutinas:\n",
    "    for rutina in rutinas:\n",
    "        print(f\"ID: {rutina['_id']}, Nombre: {rutina['nombre_rutina']}, Objetivo: {rutina['objetivo']}, Intensidad: {rutina['tipo_intensidad']}, Series/Repeticiones: {rutina['cantidad_series_rep']}, Descanso: {rutina['tiempo_descanso']} segundos\\n\")\n",
    "else:\n",
    "    print(\"No se encontraron rutinas.\")\n"
   ]
  },
  {
   "cell_type": "code",
   "execution_count": 13,
   "id": "494eb9fb-60a0-4a30-84a7-d600d241710a",
   "metadata": {},
   "outputs": [
    {
     "name": "stdout",
     "output_type": "stream",
     "text": [
      "No se pudo asignar la rutina 1001 al cliente 005.\n"
     ]
    }
   ],
   "source": [
    "#asignar rutina\n",
    "\n",
    "# ID del cliente y de la rutina ya existente\n",
    "id_cliente = \"005\"  # ID del cliente\n",
    "id_rutina = \"1001\"  # ID de la rutina existente\n",
    "\n",
    "# Asignar la rutina existente al cliente\n",
    "Fit.asignar_rutina_a_cliente(id_cliente, id_rutina)\n"
   ]
  },
  {
   "cell_type": "code",
   "execution_count": 14,
   "id": "16440873-c49a-4a8d-8efb-bf65cdf049fc",
   "metadata": {},
   "outputs": [
    {
     "name": "stdout",
     "output_type": "stream",
     "text": [
      "Conexión establecida a MongoDB.\n",
      "\n",
      "Cliente: Juan Pérez\n",
      "Rutinas:\n",
      "  - ID Rutina: 101, Nombre: Rutina de Fuerza, Objetivo: Aumentar masa muscular, Intensidad: Baja, Series y Repeticiones: 4, Tiempo de Descanso: 60 segundos\n",
      "  - ID Rutina: 102, Nombre: Rutina de Resistencia, Objetivo: Mejorar resistencia, Intensidad: Media, Series y Repeticiones: 3, Tiempo de Descanso: 45 segundos\n",
      "  - ID Rutina: 103, Nombre: Rutina de Flexibilidad, Objetivo: Aumentar flexibilidad, Intensidad: Baja, Series y Repeticiones: 5, Tiempo de Descanso: 30 segundos\n",
      "  - ID Rutina: 1032, Nombre: Rutina de Fuerza, Objetivo: Aumentar masa muscular, Intensidad: Baja, Series y Repeticiones: 4, Tiempo de Descanso: 60 segundos\n"
     ]
    }
   ],
   "source": [
    "#Mostrar a los clientes con sus rutinas\n",
    "id_cliente = \"005\"\n",
    "\n",
    "# Crear una instancia de la clase Fit\n",
    "fit = Fit()\n",
    "\n",
    "# Llamar al método para consultar el cliente con rutinas\n",
    "fit.consultar_cliente_con_rutinas(id_cliente)\n"
   ]
  },
  {
   "cell_type": "code",
   "execution_count": 3,
   "id": "f154a52d-4ac4-43d0-9078-65ce2af851ed",
   "metadata": {},
   "outputs": [
    {
     "name": "stdout",
     "output_type": "stream",
     "text": [
      "Historial registrado para el cliente 005 en la fecha 2024-10-26.\n"
     ]
    }
   ],
   "source": [
    "from db_models.historial_cliente_dao import HistorialCliente\n",
    "from fit import Fit\n",
    "# Datos del historial del cliente a registrar\n",
    "\n",
    "historial_cliente = {\n",
    "    \"_id\": \"201\",  # ID del historial\n",
    "    \"id_cliente\": \"005\",  # ID del cliente\n",
    "    \"fecha_actividad\": \"2024-10-26\",  # Fecha de la actividad\n",
    "    \"actividad\": \"Uso de máquina de pesas\",  # Descripción de la actividad\n",
    "    \"duracion\": 30  # Duración en minutos\n",
    "}\n",
    "\n",
    "# Crear una instancia de la clase HistorialCliente\n",
    "historial_dao = HistorialCliente()\n",
    "\n",
    "# Registrar el historial\n",
    "Fit.registrar_historial_cliente(\n",
    "    _id=historial_cliente[\"_id\"],\n",
    "    id_cliente=historial_cliente[\"id_cliente\"],\n",
    "    fecha_actividad=historial_cliente[\"fecha_actividad\"],\n",
    "    actividad=historial_cliente[\"actividad\"],\n",
    "    duracion=historial_cliente[\"duracion\"]\n",
    ")\n",
    "\n"
   ]
  },
  {
   "cell_type": "code",
   "execution_count": 4,
   "id": "31ff626f-12f0-4e36-9736-fb7fac0a3bee",
   "metadata": {},
   "outputs": [
    {
     "name": "stdout",
     "output_type": "stream",
     "text": [
      "ID: 201, ID Cliente: 005, Fecha: 2024-10-26, Actividad: Uso de máquina de pesas, Duración: 30 min\n"
     ]
    }
   ],
   "source": [
    "# Especificar el ID del cliente para consultar su historial\n",
    "id_cliente = \"005\" \n",
    "\n",
    "# Listar el historial del cliente específico\n",
    "historiales_cliente = HistorialCliente.consultar_historial_por_cliente(id_cliente)\n",
    "\n",
    "# Imprimir los historiales en un formato legible\n",
    "for historial in historiales_cliente:\n",
    "    print(f\"ID: {historial['_id']}, ID Cliente: {historial['ID_Cliente']}, Fecha: {historial['fecha_Actividad']}, Actividad: {historial['actividad']}, Duración: {historial['duracion']} min\")\n"
   ]
  },
  {
   "cell_type": "code",
   "execution_count": 6,
   "id": "7f16a0a6-587d-4841-9888-0220c1cd1955",
   "metadata": {},
   "outputs": [
    {
     "name": "stdout",
     "output_type": "stream",
     "text": [
      "Historiales insertados correctamente.\n"
     ]
    }
   ],
   "source": [
    "# Cargar el historial para tres clientes\n",
    "historiales_a_insertar = [\n",
    "    {\n",
    "        \"_id\": 1,  # Reemplaza con un ID único para cada historial\n",
    "        \"id_cliente\": \"cliente_1\",  # Reemplaza con el ID real del cliente\n",
    "        \"fecha_actividad\": \"2024-10-25\",  # Reemplaza con la fecha deseada\n",
    "        \"actividad\": \"Entrenamiento de fuerza\",  # Descripción de la actividad\n",
    "        \"duracion\": 60  # Duración en minutos\n",
    "    },\n",
    "    {\n",
    "        \"_id\": 2,\n",
    "        \"id_cliente\": \"cliente_2\",\n",
    "        \"fecha_actividad\": \"2024-10-25\",\n",
    "        \"actividad\": \"Yoga\",\n",
    "        \"duracion\": 45\n",
    "    },\n",
    "    {\n",
    "        \"_id\": 3,\n",
    "        \"id_cliente\": \"cliente_3\",\n",
    "        \"fecha_actividad\": \"2024-10-25\",\n",
    "        \"actividad\": \"Ciclismo\",\n",
    "        \"duracion\": 30\n",
    "    }\n",
    "]\n",
    "\n",
    "# Insertar los historiales en la colección\n",
    "for historial in historiales_a_insertar:\n",
    "    HistorialCliente.insertar_historial(historial[\"_id\"], historial[\"id_cliente\"], historial[\"fecha_actividad\"], historial[\"actividad\"], historial[\"duracion\"])\n",
    "\n",
    "print(\"Historiales insertados correctamente.\")\n"
   ]
  },
  {
   "cell_type": "code",
   "execution_count": 7,
   "id": "45913448-46c1-4030-a5e1-af6bdfcb5f05",
   "metadata": {},
   "outputs": [
    {
     "name": "stdout",
     "output_type": "stream",
     "text": [
      "ID: 201, ID Cliente: 005, Fecha: 2024-10-26, Actividad: Uso de máquina de pesas, Duración: 30 min\n",
      "ID: 1, ID Cliente: cliente_1, Fecha: 2024-10-25, Actividad: Entrenamiento de fuerza, Duración: 60 min\n",
      "ID: 2, ID Cliente: cliente_2, Fecha: 2024-10-25, Actividad: Yoga, Duración: 45 min\n",
      "ID: 3, ID Cliente: cliente_3, Fecha: 2024-10-25, Actividad: Ciclismo, Duración: 30 min\n"
     ]
    }
   ],
   "source": [
    "# Listar todos los historiales de clientes\n",
    "historiales = HistorialCliente.consultar_historiales()\n",
    "\n",
    "# Imprimir los historiales en un formato legible\n",
    "for historial in historiales:\n",
    "    print(f\"ID: {historial['_id']}, ID Cliente: {historial['ID_Cliente']}, Fecha: {historial['fecha_Actividad']}, Actividad: {historial['actividad']}, Duración: {historial['duracion']} min\")\n"
   ]
  },
  {
   "cell_type": "code",
   "execution_count": 9,
   "id": "9fb00eb9-54f8-490d-8e3e-1a68b938d407",
   "metadata": {},
   "outputs": [
    {
     "name": "stdout",
     "output_type": "stream",
     "text": [
      "Máquinas insertadas correctamente.\n"
     ]
    }
   ],
   "source": [
    "from db_models.maquina_dao import Maquina\n",
    "# Cargar datos de varias máquinas\n",
    "maquinas_a_insertar = [\n",
    "    {\n",
    "        \"_id\": 1,  \n",
    "        \"nombre\": \"Caminadora A\",\n",
    "        \"tipo\": \"Cardio\",\n",
    "        \"estado\": \"Disponible\",\n",
    "        \"ubicacion\": \"Sala de Cardio\",\n",
    "        \"fecha_mantenimiento\": \"2024-09-25\" \n",
    "    },\n",
    "    {\n",
    "        \"_id\": 2,\n",
    "        \"nombre\": \"Bicicleta Estática B\",\n",
    "        \"tipo\": \"Cardio\",\n",
    "        \"estado\": \"Disponible\",\n",
    "        \"ubicacion\": \"Sala de Cardio\",\n",
    "        \"fecha_mantenimiento\": \"2024-08-15\"\n",
    "    },\n",
    "    {\n",
    "        \"_id\": 3,\n",
    "        \"nombre\": \"Máquina de Pesas C\",\n",
    "        \"tipo\": \"Fuerza\",\n",
    "        \"estado\": \"Ocupada\",\n",
    "        \"ubicacion\": \"Sala de Fuerza\",\n",
    "        \"fecha_mantenimiento\": \"2024-10-01\"\n",
    "    }\n",
    "]\n",
    "\n",
    "# Insertar las máquinas en la colección\n",
    "for maquina in maquinas_a_insertar:\n",
    "    Maquina.insertar_maquina(maquina[\"_id\"], maquina[\"nombre\"], maquina[\"tipo\"], maquina[\"estado\"], maquina[\"ubicacion\"], maquina[\"fecha_mantenimiento\"])\n",
    "\n",
    "print(\"Máquinas insertadas correctamente.\")\n"
   ]
  },
  {
   "cell_type": "code",
   "execution_count": 20,
   "id": "02e315df-b0dc-420b-90ef-d6ff291a2a13",
   "metadata": {},
   "outputs": [
    {
     "name": "stdout",
     "output_type": "stream",
     "text": [
      "{'_id': 1, 'nombre': 'Caminadora A', 'tipo': 'Cardio', 'estado': 'Disponible', 'ubicacion': 'Sala de Cardio', 'fecha_mantenimiento': '2024-09-25'}\n",
      "{'_id': 2, 'nombre': 'Bicicleta Estática B', 'tipo': 'Cardio', 'estado': 'Disponible', 'ubicacion': 'Sala de Cardio', 'fecha_mantenimiento': '2024-08-15'}\n",
      "{'_id': 3, 'nombre': 'Máquina de Pesas C', 'tipo': 'Fuerza', 'estado': 'Ocupada', 'ubicacion': 'Sala de Fuerza', 'fecha_mantenimiento': '2024-10-01'}\n"
     ]
    }
   ],
   "source": [
    "# Consultar y listar todas las máquinas\n",
    "maquinas = Maquina.consultar_maquinas()\n",
    "\n",
    "# Mostrar la lista de máquinas\n",
    "for maquina in maquinas:\n",
    "    print(maquina)\n"
   ]
  },
  {
   "cell_type": "code",
   "execution_count": 24,
   "id": "b250abbf-5c6a-4d8e-abd8-c0ceaa05b8a6",
   "metadata": {},
   "outputs": [
    {
     "name": "stdout",
     "output_type": "stream",
     "text": [
      "Se actualizó 1 máquina(s).\n"
     ]
    }
   ],
   "source": [
    "# Definir el ID de la máquina a actualizar\n",
    "maquina_id = 2\n",
    "\n",
    "# Definir los nuevos datos que deseas actualizar\n",
    "nuevos_datos = {\n",
    "    \"nombre\": \"Nuevo Nombre\",  \n",
    "    \"tipo\": \"Nuevo Tipo\",      \n",
    "    \"ubicacion\": \"Nueva Ubicación\", \n",
    "    \"fecha_mantenimiento\": \"2024-10-25\"\n",
    "}\n",
    "\n",
    "# Llamar al método de actualización\n",
    "resultado = Maquina.actualizar_maquina(\n",
    "    maquina_id,\n",
    "    nombre=nuevos_datos[\"nombre\"],\n",
    "    tipo=nuevos_datos[\"tipo\"],\n",
    "    ubicacion=nuevos_datos[\"ubicacion\"],\n",
    "    fecha_mantenimiento=nuevos_datos[\"fecha_mantenimiento\"]\n",
    ")\n",
    "\n",
    "# Mostrar el resultado de la actualización\n",
    "if resultado:\n",
    "    print(f\"Se actualizó {resultado} máquina(s).\")\n",
    "else:\n",
    "    print(\"No se actualizó ninguna máquina o hubo un error.\")\n"
   ]
  },
  {
   "cell_type": "code",
   "execution_count": null,
   "id": "133f5f23-4eed-4cf8-b91f-adc0e67878db",
   "metadata": {},
   "outputs": [],
   "source": []
  },
  {
   "cell_type": "code",
   "execution_count": null,
   "id": "23a7f563-8db0-40c4-b65f-867c6fc1fef5",
   "metadata": {},
   "outputs": [],
   "source": []
  },
  {
   "cell_type": "code",
   "execution_count": null,
   "id": "a858be64-141b-4ac0-a21e-5cd6441c1ee1",
   "metadata": {},
   "outputs": [],
   "source": []
  },
  {
   "cell_type": "code",
   "execution_count": null,
   "id": "70efa52b-c733-42bf-bd28-1812f199b17a",
   "metadata": {},
   "outputs": [],
   "source": []
  },
  {
   "cell_type": "code",
   "execution_count": null,
   "id": "36c9ebd2-8b0f-4a16-8c1f-8bd68fc74e6b",
   "metadata": {},
   "outputs": [],
   "source": []
  }
 ],
 "metadata": {
  "kernelspec": {
   "display_name": "Python 3 (ipykernel)",
   "language": "python",
   "name": "python3"
  },
  "language_info": {
   "codemirror_mode": {
    "name": "ipython",
    "version": 3
   },
   "file_extension": ".py",
   "mimetype": "text/x-python",
   "name": "python",
   "nbconvert_exporter": "python",
   "pygments_lexer": "ipython3",
   "version": "3.12.2"
  }
 },
 "nbformat": 4,
 "nbformat_minor": 5
}
