{
 "cells": [
  {
   "cell_type": "code",
   "execution_count": 6,
   "id": "67e64920-d7b9-4222-b6af-004456cf335e",
   "metadata": {},
   "outputs": [
    {
     "name": "stdout",
     "output_type": "stream",
     "text": [
      "Historial registrado para el cliente 005 en la fecha 2024-10-26.\n"
     ]
    }
   ],
   "source": [
    "from db_models.historial_cliente_dao import HistorialCliente\n",
    "from fit import Fit\n",
    "# Datos del historial del cliente a registrar\n",
    "\n",
    "historial_cliente = {\n",
    "    \"_id\": 302,  # ID del historial\n",
    "    \"id_cliente\": \"005\",  # ID del cliente\n",
    "    \"fecha_actividad\": \"2024-10-26\",  # Fecha de la actividad\n",
    "    \"actividad\": \"Uso de máquina de pesas\",  # Descripción de la actividad\n",
    "    \"duracion\": 30  # Duración en minutos\n",
    "}\n",
    "\n",
    "# Crear una instancia de la clase HistorialCliente\n",
    "historial_dao = HistorialCliente()\n",
    "\n",
    "# Registrar el historial\n",
    "Fit.registrar_historial_cliente(\n",
    "    _id=historial_cliente[\"_id\"],\n",
    "    id_cliente=historial_cliente[\"id_cliente\"],\n",
    "    fecha_actividad=historial_cliente[\"fecha_actividad\"],\n",
    "    actividad=historial_cliente[\"actividad\"],\n",
    "    duracion=historial_cliente[\"duracion\"]\n",
    ")"
   ]
  },
  {
   "cell_type": "code",
   "execution_count": 3,
   "id": "21643bdb-a443-4aff-aace-5bec156ed835",
   "metadata": {},
   "outputs": [
    {
     "name": "stdout",
     "output_type": "stream",
     "text": [
      "ID: 201, ID Cliente: 005, Fecha: 2024-10-26, Actividad: Uso de máquina de pesas, Duración: 30 min\n"
     ]
    }
   ],
   "source": [
    "# Especificar el ID del cliente para consultar su historial\n",
    "id_cliente = \"005\" \n",
    "\n",
    "# Listar el historial del cliente específico\n",
    "historiales_cliente = HistorialCliente.consultar_historial_por_cliente(id_cliente)\n",
    "\n",
    "# Imprimir los historiales en un formato legible\n",
    "for historial in historiales_cliente:\n",
    "    print(f\"ID: {historial['_id']}, ID Cliente: {historial['ID_Cliente']}, Fecha: {historial['fecha_Actividad']}, Actividad: {historial['actividad']}, Duración: {historial['duracion']} min\")\n"
   ]
  },
  {
   "cell_type": "code",
   "execution_count": 10,
   "id": "dc46bae7-16be-4ad7-ad01-e8a1314b493b",
   "metadata": {},
   "outputs": [
    {
     "name": "stdout",
     "output_type": "stream",
     "text": [
      "Historiales insertados correctamente.\n"
     ]
    }
   ],
   "source": [
    "# Cargar el historial para tres clientes\n",
    "historiales_a_insertar = [\n",
    "    {\n",
    "        \"_id\": 54645,  # Reemplaza con un ID único para cada historial\n",
    "        \"id_cliente\": \"cliente_1\",  # Reemplaza con el ID real del cliente\n",
    "        \"fecha_actividad\": \"2024-10-25\",  # Reemplaza con la fecha deseada\n",
    "        \"actividad\": \"Entrenamiento de fuerza\",  # Descripción de la actividad\n",
    "        \"duracion\": 60  # Duración en minutos\n",
    "    },\n",
    "    {\n",
    "        \"_id\": 3333,\n",
    "        \"id_cliente\": \"cliente_2\",\n",
    "        \"fecha_actividad\": \"2024-10-25\",\n",
    "        \"actividad\": \"Yoga\",\n",
    "        \"duracion\": 45\n",
    "    },\n",
    "    {\n",
    "        \"_id\": 5,\n",
    "        \"id_cliente\": \"cliente_3\",\n",
    "        \"fecha_actividad\": \"2024-10-25\",\n",
    "        \"actividad\": \"Ciclismo\",\n",
    "        \"duracion\": 30\n",
    "    }\n",
    "]\n",
    "\n",
    "# Insertar los historiales en la colección\n",
    "for historial in historiales_a_insertar:\n",
    "    HistorialCliente.insertar_historial(historial[\"_id\"], historial[\"id_cliente\"], historial[\"fecha_actividad\"], historial[\"actividad\"], historial[\"duracion\"])\n",
    "\n",
    "print(\"Historiales insertados correctamente.\")\n"
   ]
  },
  {
   "cell_type": "code",
   "execution_count": 11,
   "id": "652c64bf-c2f0-4a86-8592-f37a95423ad7",
   "metadata": {},
   "outputs": [
    {
     "name": "stdout",
     "output_type": "stream",
     "text": [
      "ID: 201, ID Cliente: 005, Fecha: 2024-10-26, Actividad: Uso de máquina de pesas, Duración: 30 min\n",
      "ID: 1, ID Cliente: cliente_1, Fecha: 2024-10-25, Actividad: Entrenamiento de fuerza, Duración: 60 min\n",
      "ID: 2, ID Cliente: cliente_2, Fecha: 2024-10-25, Actividad: Yoga, Duración: 45 min\n",
      "ID: 3, ID Cliente: cliente_3, Fecha: 2024-10-25, Actividad: Ciclismo, Duración: 30 min\n",
      "ID: 302, ID Cliente: 005, Fecha: 2024-10-26, Actividad: Uso de máquina de pesas, Duración: 30 min\n",
      "ID: 2344, ID Cliente: cliente_1, Fecha: 2024-10-25, Actividad: Entrenamiento de fuerza, Duración: 60 min\n",
      "ID: 5656, ID Cliente: cliente_2, Fecha: 2024-10-25, Actividad: Yoga, Duración: 45 min\n",
      "ID: 234232, ID Cliente: cliente_3, Fecha: 2024-10-25, Actividad: Ciclismo, Duración: 30 min\n",
      "ID: 54645, ID Cliente: cliente_1, Fecha: 2024-10-25, Actividad: Entrenamiento de fuerza, Duración: 60 min\n",
      "ID: 3333, ID Cliente: cliente_2, Fecha: 2024-10-25, Actividad: Yoga, Duración: 45 min\n",
      "ID: 5, ID Cliente: cliente_3, Fecha: 2024-10-25, Actividad: Ciclismo, Duración: 30 min\n"
     ]
    }
   ],
   "source": [
    "# Listar todos los historiales de clientes\n",
    "historiales = HistorialCliente.consultar_historiales()\n",
    "\n",
    "# Imprimir los historiales en un formato legible\n",
    "for historial in historiales:\n",
    "    print(f\"ID: {historial['_id']}, ID Cliente: {historial['ID_Cliente']}, Fecha: {historial['fecha_Actividad']}, Actividad: {historial['actividad']}, Duración: {historial['duracion']} min\")\n"
   ]
  },
  {
   "cell_type": "code",
   "execution_count": null,
   "id": "c15d1136-6e00-45a8-9992-b4f1978ec07b",
   "metadata": {},
   "outputs": [],
   "source": []
  }
 ],
 "metadata": {
  "kernelspec": {
   "display_name": "Python 3 (ipykernel)",
   "language": "python",
   "name": "python3"
  },
  "language_info": {
   "codemirror_mode": {
    "name": "ipython",
    "version": 3
   },
   "file_extension": ".py",
   "mimetype": "text/x-python",
   "name": "python",
   "nbconvert_exporter": "python",
   "pygments_lexer": "ipython3",
   "version": "3.12.2"
  }
 },
 "nbformat": 4,
 "nbformat_minor": 5
}
