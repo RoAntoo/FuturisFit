{
 "cells": [
  {
   "cell_type": "code",
   "execution_count": 1,
   "id": "9bb5aa93-9e16-47c6-9119-bda6c43cf02a",
   "metadata": {},
   "outputs": [
    {
     "name": "stdout",
     "output_type": "stream",
     "text": [
      "Error al insertar rutina: E11000 duplicate key error collection: FuturisFit.rutinas index: _id_ dup key: { _id: \"1032\" }, full error: {'index': 0, 'code': 11000, 'errmsg': 'E11000 duplicate key error collection: FuturisFit.rutinas index: _id_ dup key: { _id: \"1032\" }', 'keyPattern': {'_id': 1}, 'keyValue': {'_id': '1032'}}\n",
      "Error al insertar rutina: E11000 duplicate key error collection: FuturisFit.rutinas index: _id_ dup key: { _id: \"102\" }, full error: {'index': 0, 'code': 11000, 'errmsg': 'E11000 duplicate key error collection: FuturisFit.rutinas index: _id_ dup key: { _id: \"102\" }', 'keyPattern': {'_id': 1}, 'keyValue': {'_id': '102'}}\n",
      "Error al insertar rutina: E11000 duplicate key error collection: FuturisFit.rutinas index: _id_ dup key: { _id: \"103\" }, full error: {'index': 0, 'code': 11000, 'errmsg': 'E11000 duplicate key error collection: FuturisFit.rutinas index: _id_ dup key: { _id: \"103\" }', 'keyPattern': {'_id': 1}, 'keyValue': {'_id': '103'}}\n",
      "\n",
      "Se insertaron 0 rutinas con éxito.\n"
     ]
    }
   ],
   "source": [
    "# Insertar Rutinas\n",
    "from fit import Fit\n",
    "from db_models.rutina_dao import Rutina \n",
    "\n",
    "# Datos de las rutinas a insertar\n",
    "rutinas_a_insertar = [\n",
    "    {\n",
    "        \"_id\": \"1032\",  \n",
    "        \"id_cliente\": \"005\",  \n",
    "        \"nombre_rutina\": \"Rutina de Fuerza\",\n",
    "        \"objetivo\": \"Aumentar masa muscular\",\n",
    "        \"tipo_intensidad\": \"Baja\",\n",
    "        \"cantidad_series_rep\": 4,\n",
    "        \"tiempo_descanso\": 60\n",
    "    },\n",
    "    {\n",
    "        \"_id\": \"102\",\n",
    "        \"id_cliente\": \"005\",\n",
    "        \"nombre_rutina\": \"Rutina de Resistencia\",\n",
    "        \"objetivo\": \"Mejorar resistencia\",\n",
    "        \"tipo_intensidad\": \"Media\",\n",
    "        \"cantidad_series_rep\": 3,\n",
    "        \"tiempo_descanso\": 45\n",
    "    },\n",
    "    {\n",
    "        \"_id\": \"103\",\n",
    "        \"id_cliente\": \"005\",\n",
    "        \"nombre_rutina\": \"Rutina de Flexibilidad\",\n",
    "        \"objetivo\": \"Aumentar flexibilidad\",\n",
    "        \"tipo_intensidad\": \"Baja\",\n",
    "        \"cantidad_series_rep\": 5,\n",
    "        \"tiempo_descanso\": 30\n",
    "    }\n",
    "]\n",
    "\n",
    "# Crear una instancia de la clase Rutina\n",
    "rutina_dao = Rutina()\n",
    "\n",
    "# Insertar varias rutinas\n",
    "cantidad_insertadas = rutina_dao.insertar_varias_rutinas(rutinas_a_insertar)\n",
    "\n",
    "# Confirmar la inserción\n",
    "print(f\"\\nSe insertaron {cantidad_insertadas} rutinas con éxito.\")\n"
   ]
  },
  {
   "cell_type": "code",
   "execution_count": 2,
   "id": "16ee845d-5bae-4d91-a30d-d6c8d9c8fe75",
   "metadata": {},
   "outputs": [
    {
     "name": "stdout",
     "output_type": "stream",
     "text": [
      "Rutinas de ejercicios:\n",
      "ID: 101, Nombre: Rutina de Fuerza, Objetivo: Aumentar masa muscular, Intensidad: Baja, Series/Repeticiones: 4, Descanso: 60 segundos\n",
      "\n",
      "ID: 102, Nombre: Rutina de Resistencia, Objetivo: Mejorar resistencia, Intensidad: Media, Series/Repeticiones: 3, Descanso: 45 segundos\n",
      "\n",
      "ID: 103, Nombre: Rutina de Flexibilidad, Objetivo: Aumentar flexibilidad, Intensidad: Baja, Series/Repeticiones: 5, Descanso: 30 segundos\n",
      "\n",
      "ID: 1032, Nombre: Rutina de Fuerza, Objetivo: Aumentar masa muscular, Intensidad: Baja, Series/Repeticiones: 4, Descanso: 60 segundos\n",
      "\n"
     ]
    }
   ],
   "source": [
    "#consultar todas las rutinas de ejercicios\n",
    "rutinas = Rutina.consultar_rutinas()\n",
    "\n",
    "# Listar las rutinas\n",
    "print(\"Rutinas de ejercicios:\")\n",
    "if rutinas:\n",
    "    for rutina in rutinas:\n",
    "        print(f\"ID: {rutina['_id']}, Nombre: {rutina['nombre_rutina']}, Objetivo: {rutina['objetivo']}, Intensidad: {rutina['tipo_intensidad']}, Series/Repeticiones: {rutina['cantidad_series_rep']}, Descanso: {rutina['tiempo_descanso']} segundos\\n\")\n",
    "else:\n",
    "    print(\"No se encontraron rutinas.\")\n"
   ]
  },
  {
   "cell_type": "code",
   "execution_count": 4,
   "id": "d3938a5c-1d5a-462c-9beb-e2747e272e7e",
   "metadata": {},
   "outputs": [
    {
     "name": "stdout",
     "output_type": "stream",
     "text": [
      "Error: No existe el cliente con ID 2001.\n"
     ]
    }
   ],
   "source": [
    "#asignar rutina creada\n",
    "from fit import Fit\n",
    "\n",
    "\n",
    "# Definir ID de cliente y rutina\n",
    "id_cliente = \"2001\"\n",
    "id_rutina = \"1001\"\n",
    "\n",
    "# Asignar la rutina al cliente\n",
    "Fit.asignar_rutina_a_cliente(id_cliente, id_rutina)\n"
   ]
  },
  {
   "cell_type": "code",
   "execution_count": 2,
   "id": "e96daf1f-a39c-4bc5-b0b9-600940d7836c",
   "metadata": {},
   "outputs": [
    {
     "name": "stdout",
     "output_type": "stream",
     "text": [
      "No se pudo asignar la rutina.\n"
     ]
    }
   ],
   "source": [
    "# Código de prueba\n",
    "from db_models.cliente_dao import Cliente\n",
    "cliente_id = \"id_del_cliente\"  # Reemplaza con un ID válido\n",
    "rutina_id = \"id_de_la_rutina\"  # Reemplaza con un ID válido\n",
    "\n",
    "resultado = Cliente.asignar_rutina(cliente_id, rutina_id)\n",
    "if resultado:\n",
    "    print(\"Rutina asignada con éxito.\")\n",
    "else:\n",
    "    print(\"No se pudo asignar la rutina.\")\n"
   ]
  },
  {
   "cell_type": "code",
   "execution_count": 1,
   "id": "e66f5797-400d-4232-8a53-e436376f82a6",
   "metadata": {},
   "outputs": [
    {
     "name": "stdout",
     "output_type": "stream",
     "text": [
      "Conexión establecida a MongoDB.\n",
      "\n",
      "Cliente: Juan Pérez\n",
      "Rutinas:\n",
      "  - ID Rutina: 101, Nombre: Rutina de Fuerza, Objetivo: Aumentar masa muscular, Intensidad: Baja, Series y Repeticiones: 4, Tiempo de Descanso: 60 segundos\n",
      "  - ID Rutina: 102, Nombre: Rutina de Resistencia, Objetivo: Mejorar resistencia, Intensidad: Media, Series y Repeticiones: 3, Tiempo de Descanso: 45 segundos\n",
      "  - ID Rutina: 103, Nombre: Rutina de Flexibilidad, Objetivo: Aumentar flexibilidad, Intensidad: Baja, Series y Repeticiones: 5, Tiempo de Descanso: 30 segundos\n",
      "  - ID Rutina: 1032, Nombre: Rutina de Fuerza, Objetivo: Aumentar masa muscular, Intensidad: Baja, Series y Repeticiones: 4, Tiempo de Descanso: 60 segundos\n"
     ]
    }
   ],
   "source": [
    "from fit import Fit\n",
    "from db_models.cliente_dao import Cliente\n",
    "\n",
    "#Mostrar a los clientes con sus rutinas\n",
    "id_cliente = \"005\"\n",
    "\n",
    "# Crear una instancia de la clase Fit\n",
    "fit = Fit()\n",
    "\n",
    "# Llamar al método para consultar el cliente con rutinas\n",
    "fit.listar_rutinas_por_cliente(id_cliente)\n"
   ]
  }
 ],
 "metadata": {
  "kernelspec": {
   "display_name": "Python 3 (ipykernel)",
   "language": "python",
   "name": "python3"
  },
  "language_info": {
   "codemirror_mode": {
    "name": "ipython",
    "version": 3
   },
   "file_extension": ".py",
   "mimetype": "text/x-python",
   "name": "python",
   "nbconvert_exporter": "python",
   "pygments_lexer": "ipython3",
   "version": "3.12.2"
  }
 },
 "nbformat": 4,
 "nbformat_minor": 5
}
