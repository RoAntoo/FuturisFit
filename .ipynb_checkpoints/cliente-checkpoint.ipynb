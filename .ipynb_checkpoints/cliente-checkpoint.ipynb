{
 "cells": [
  {
   "cell_type": "code",
   "execution_count": 2,
   "id": "e59ae8d2-e260-4fa8-b5da-234d1b91960d",
   "metadata": {},
   "outputs": [
    {
     "name": "stdout",
     "output_type": "stream",
     "text": [
      "Conexión establecida a MongoDB.\n",
      "\n",
      "Error: Ya existe un cliente con ID 0003.\n",
      "\n",
      "Cliente registrado exitosamente.\n",
      "\n"
     ]
    }
   ],
   "source": [
    "from fit import Fit\n",
    "\n",
    "fit = Fit()\n",
    "\n",
    "# Llamamos al método para registrar un cliente\n",
    "fit.registrar_cliente(\n",
    "    _id=\"0003\",\n",
    "    nombre=\"franco\",\n",
    "    apellido=\"Pérez\",\n",
    "    fecha_nacimiento=\"1990-01-01\",\n",
    "    email=\"tornillo@example.com\",\n",
    "    telefono=\"123456789\"\n",
    ")\n",
    "\n",
    "# Confirmación de registro\n",
    "print(\"\\nCliente registrado exitosamente.\\n\")\n"
   ]
  },
  {
   "cell_type": "code",
   "execution_count": 8,
   "id": "860e39cf-a5b2-45ec-87a6-948f70b3c01c",
   "metadata": {},
   "outputs": [
    {
     "name": "stdout",
     "output_type": "stream",
     "text": [
      "Conexión establecida a MongoDB.\n",
      "\n",
      "Error: Ya existe un cliente con ID 0003.\n",
      "Error: Ya existe un cliente con ID 00987.\n",
      "Error: Ya existe un cliente con ID 0012.\n",
      "Cliente 0009 registrado exitosamente.\n"
     ]
    }
   ],
   "source": [
    "from fit import Fit\n",
    "\n",
    "# Creamos la instancia de Fit\n",
    "fit = Fit()\n",
    "\n",
    "# Llamamos al método para registrar un cliente\n",
    "fit.registrar_cliente(\n",
    "    _id=\"0003\",\n",
    "    nombre=\"franco\",\n",
    "    apellido=\"Pérez\",\n",
    "    fecha_nacimiento=\"1990-01-01\",\n",
    "    email=\"tornillo@example.com\",\n",
    "    telefono=\"123456789\"\n",
    ")\n",
    "\n",
    "fit.registrar_cliente(\n",
    "    _id=\"00987\",\n",
    "    nombre=\"Francisco\",\n",
    "    apellido=\"Martn\",\n",
    "    fecha_nacimiento=\"1990-01-01\",\n",
    "    email=\"jugatelanegreira@example.com\",\n",
    "    telefono=\"123456789\"\n",
    ")\n",
    "\n",
    "fit.registrar_cliente(\n",
    "    _id=\"0012\",\n",
    "    nombre=\"Lopez\",\n",
    "    apellido=\"Corcho\",\n",
    "    fecha_nacimiento=\"1985-05-15\",\n",
    "    email=\"armandocasas@example.com\",\n",
    "    telefono=\"987654321\"\n",
    ")\n",
    "\n",
    "fit.registrar_cliente(\n",
    "    _id=\"0009\",\n",
    "    nombre=\"Luis\",\n",
    "    apellido=\"Martínez\",\n",
    "    fecha_nacimiento=\"1992-08-20\",\n",
    "    email=\"Estebamnasd.com\",\n",
    "    telefono=\"456789123\"\n",
    ")"
   ]
  },
  {
   "cell_type": "code",
   "execution_count": 3,
   "id": "78bf1435-dee9-4d9c-85ae-ff3421a55b1a",
   "metadata": {},
   "outputs": [
    {
     "name": "stdout",
     "output_type": "stream",
     "text": [
      "Conexión establecida a MongoDB.\n",
      "\n",
      "\n",
      "No se encontró un cliente que coincida con la condición.\n",
      "\n",
      "No se encontró un cliente que coincida con la condición.\n"
     ]
    },
    {
     "data": {
      "text/plain": [
       "0"
      ]
     },
     "execution_count": 3,
     "metadata": {},
     "output_type": "execute_result"
    }
   ],
   "source": [
    "fit_instance = Fit()\n",
    "\n",
    "# Eliminar un cliente por ID\n",
    "fit_instance.eliminar_cliente_mailnombre(_id=\"003\")\n",
    "\n",
    "# O eliminar un cliente por email\n",
    "fit_instance.eliminar_cliente_mailnombre(email=\"cliente@example.com\")\n"
   ]
  },
  {
   "cell_type": "code",
   "execution_count": 10,
   "id": "301720a6-5b7f-49cd-b3fe-48f06f9b0bc0",
   "metadata": {},
   "outputs": [
    {
     "name": "stdout",
     "output_type": "stream",
     "text": [
      "Conexión establecida a MongoDB.\n",
      "\n",
      "Lista de Clientes...\n",
      "ID: 005, Nombre: Juan, Apellido: Pérez, Email: ferchosadas, Teléfono: 123456789\n",
      "ID: 002, Nombre: Ana, Apellido: Gómez, Email: ana.gomez@example.com, Teléfono: 987654321\n",
      "ID: 0003, Nombre: franco, Apellido: Pérez, Email: tornillo@example.com, Teléfono: 123456789\n",
      "ID: 00987, Nombre: Francisco, Apellido: Martn, Email: jugatelanegreira@example.com, Teléfono: 123456789\n",
      "ID: 0012, Nombre: Lopez, Apellido: Corcho, Email: armandocasas@example.com, Teléfono: 987654321\n",
      "ID: 0009, Nombre: Luis, Apellido: Martínez, Email: Estebamnasd.com, Teléfono: 456789123\n"
     ]
    }
   ],
   "source": [
    "# Listar Clientes\n",
    "from fit import Fit\n",
    "\n",
    "# Crear una instancia de la clase Fit\n",
    "fit = Fit()\n",
    "\n",
    "# Usar el método listar_clientes para imprimir la lista de clientes\n",
    "print(\"Lista de Clientes...\")\n",
    "fit.listar_clientes()\n"
   ]
  }
 ],
 "metadata": {
  "kernelspec": {
   "display_name": "Python 3 (ipykernel)",
   "language": "python",
   "name": "python3"
  },
  "language_info": {
   "codemirror_mode": {
    "name": "ipython",
    "version": 3
   },
   "file_extension": ".py",
   "mimetype": "text/x-python",
   "name": "python",
   "nbconvert_exporter": "python",
   "pygments_lexer": "ipython3",
   "version": "3.12.2"
  }
 },
 "nbformat": 4,
 "nbformat_minor": 5
}
