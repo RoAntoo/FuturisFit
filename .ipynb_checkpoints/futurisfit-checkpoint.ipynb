{
 "cells": [
  {
   "cell_type": "code",
   "execution_count": 26,
   "id": "e59ae8d2-e260-4fa8-b5da-234d1b91960d",
   "metadata": {},
   "outputs": [
    {
     "name": "stdout",
     "output_type": "stream",
     "text": [
      "Conexión establecida a MongoDB.\n",
      "\n",
      "Error: Ya existe un cliente con ID 0003.\n",
      "\n",
      "Cliente registrado exitosamente.\n",
      "\n"
     ]
    }
   ],
   "source": [
    "from fit import Fit\n",
    "\n",
    "# Creamos la instancia de Fit\n",
    "fit = Fit()\n",
    "\n",
    "# Llamamos al método para registrar un cliente\n",
    "fit.registrar_cliente(\n",
    "    _id=\"0003\",\n",
    "    nombre=\"franco\",\n",
    "    apellido=\"Pérez\",\n",
    "    fecha_nacimiento=\"1990-01-01\",\n",
    "    email=\"tornillo@example.com\",\n",
    "    telefono=\"123456789\"\n",
    ")\n",
    "\n",
    "# Confirmación de registro\n",
    "print(\"\\nCliente registrado exitosamente.\\n\")\n"
   ]
  },
  {
   "cell_type": "code",
   "execution_count": 2,
   "id": "860e39cf-a5b2-45ec-87a6-948f70b3c01c",
   "metadata": {},
   "outputs": [
    {
     "name": "stdout",
     "output_type": "stream",
     "text": [
      "Conexión establecida a MongoDB.\n",
      "\n",
      "Error: Ya existe un cliente con ID 0003.\n",
      "Error: Ya existe un cliente con ID 00987.\n",
      "Error: Ya existe un cliente con ID 0012.\n",
      "Error: Ya existe un cliente con ID 0009.\n"
     ]
    }
   ],
   "source": [
    "from fit import Fit\n",
    "\n",
    "# Creamos la instancia de Fit\n",
    "fit = Fit()\n",
    "\n",
    "# Llamamos al método para registrar un cliente\n",
    "fit.registrar_cliente(\n",
    "    _id=\"0003\",\n",
    "    nombre=\"franco\",\n",
    "    apellido=\"Pérez\",\n",
    "    fecha_nacimiento=\"1990-01-01\",\n",
    "    email=\"tornillo@example.com\",\n",
    "    telefono=\"123456789\"\n",
    ")\n",
    "\n",
    "fit.registrar_cliente(\n",
    "    _id=\"00987\",\n",
    "    nombre=\"Francisco\",\n",
    "    apellido=\"Martn\",\n",
    "    fecha_nacimiento=\"1990-01-01\",\n",
    "    email=\"jugatelanegreira@example.com\",\n",
    "    telefono=\"123456789\"\n",
    ")\n",
    "\n",
    "fit.registrar_cliente(\n",
    "    _id=\"0012\",\n",
    "    nombre=\"Lopez\",\n",
    "    apellido=\"Corcho\",\n",
    "    fecha_nacimiento=\"1985-05-15\",\n",
    "    email=\"armandocasas@example.com\",\n",
    "    telefono=\"987654321\"\n",
    ")\n",
    "\n",
    "fit.registrar_cliente(\n",
    "    _id=\"0009\",\n",
    "    nombre=\"Luis\",\n",
    "    apellido=\"Martínez\",\n",
    "    fecha_nacimiento=\"1992-08-20\",\n",
    "    email=\"Estebamnasd.com\",\n",
    "    telefono=\"456789123\"\n",
    ")"
   ]
  },
  {
   "cell_type": "code",
   "execution_count": 4,
   "id": "78bf1435-dee9-4d9c-85ae-ff3421a55b1a",
   "metadata": {},
   "outputs": [
    {
     "name": "stdout",
     "output_type": "stream",
     "text": [
      "Conexión establecida a MongoDB.\n",
      "\n",
      "Cliente eliminado con éxito.\n",
      "\n",
      "No se encontró un cliente que coincida con la condición.\n"
     ]
    },
    {
     "data": {
      "text/plain": [
       "0"
      ]
     },
     "execution_count": 4,
     "metadata": {},
     "output_type": "execute_result"
    }
   ],
   "source": [
    "# Supongamos que tienes una instancia de la clase Fit\n",
    "\n",
    "fit_instance = Fit()\n",
    "\n",
    "# Eliminar un cliente por ID\n",
    "fit_instance.eliminar_cliente_mailnombre(_id=\"003\")\n",
    "\n",
    "# O eliminar un cliente por email\n",
    "fit_instance.eliminar_cliente_mailnombre(email=\"cliente@example.com\")\n"
   ]
  },
  {
   "cell_type": "code",
   "execution_count": 5,
   "id": "301720a6-5b7f-49cd-b3fe-48f06f9b0bc0",
   "metadata": {},
   "outputs": [
    {
     "name": "stdout",
     "output_type": "stream",
     "text": [
      "Conexión establecida a MongoDB.\n",
      "\n",
      "Lista de Clientes...\n",
      "ID: 005, Nombre: Juan, Apellido: Pérez, Email: ferchosadas, Teléfono: 123456789\n",
      "ID: 002, Nombre: Ana, Apellido: Gómez, Email: ana.gomez@example.com, Teléfono: 987654321\n",
      "ID: 0003, Nombre: franco, Apellido: Pérez, Email: tornillo@example.com, Teléfono: 123456789\n",
      "ID: 00987, Nombre: Francisco, Apellido: Martn, Email: jugatelanegreira@example.com, Teléfono: 123456789\n",
      "ID: 0012, Nombre: Lopez, Apellido: Corcho, Email: armandocasas@example.com, Teléfono: 987654321\n"
     ]
    }
   ],
   "source": [
    "# Listar Clientes\n",
    "from fit import Fit\n",
    "\n",
    "# Crear una instancia de la clase Fit\n",
    "fit = Fit()\n",
    "\n",
    "# Usar el método listar_clientes para imprimir la lista de clientes\n",
    "print(\"Lista de Clientes...\")\n",
    "fit.listar_clientes()\n"
   ]
  },
  {
   "cell_type": "code",
   "execution_count": 3,
   "id": "096c64d1-0451-420a-bf03-77d405c12aa6",
   "metadata": {},
   "outputs": [
    {
     "name": "stdout",
     "output_type": "stream",
     "text": [
      "Error al insertar rutina: E11000 duplicate key error collection: FuturisFit.rutinas index: _id_ dup key: { _id: \"102\" }, full error: {'index': 0, 'code': 11000, 'errmsg': 'E11000 duplicate key error collection: FuturisFit.rutinas index: _id_ dup key: { _id: \"102\" }', 'keyPattern': {'_id': 1}, 'keyValue': {'_id': '102'}}\n",
      "Error al insertar rutina: E11000 duplicate key error collection: FuturisFit.rutinas index: _id_ dup key: { _id: \"103\" }, full error: {'index': 0, 'code': 11000, 'errmsg': 'E11000 duplicate key error collection: FuturisFit.rutinas index: _id_ dup key: { _id: \"103\" }', 'keyPattern': {'_id': 1}, 'keyValue': {'_id': '103'}}\n",
      "\n",
      "Se insertaron 1 rutinas con éxito.\n"
     ]
    }
   ],
   "source": [
    "# Insertar Rutinas\n",
    "from fit import Fit\n",
    "from db_models.rutina_dao import Rutina  # Asegúrate de importar correctamente\n",
    "\n",
    "# Datos de las rutinas a insertar\n",
    "rutinas_a_insertar = [\n",
    "    {\n",
    "        \"_id\": \"1032\",  \n",
    "        \"id_cliente\": \"005\",  \n",
    "        \"nombre_rutina\": \"Rutina de Fuerza\",\n",
    "        \"objetivo\": \"Aumentar masa muscular\",\n",
    "        \"tipo_intensidad\": \"Baja\",\n",
    "        \"cantidad_series_rep\": 4,\n",
    "        \"tiempo_descanso\": 60\n",
    "    },\n",
    "    {\n",
    "        \"_id\": \"102\",\n",
    "        \"id_cliente\": \"005\",\n",
    "        \"nombre_rutina\": \"Rutina de Resistencia\",\n",
    "        \"objetivo\": \"Mejorar resistencia\",\n",
    "        \"tipo_intensidad\": \"Media\",\n",
    "        \"cantidad_series_rep\": 3,\n",
    "        \"tiempo_descanso\": 45\n",
    "    },\n",
    "    {\n",
    "        \"_id\": \"103\",\n",
    "        \"id_cliente\": \"005\",\n",
    "        \"nombre_rutina\": \"Rutina de Flexibilidad\",\n",
    "        \"objetivo\": \"Aumentar flexibilidad\",\n",
    "        \"tipo_intensidad\": \"Baja\",\n",
    "        \"cantidad_series_rep\": 5,\n",
    "        \"tiempo_descanso\": 30\n",
    "    }\n",
    "]\n",
    "\n",
    "# Crear una instancia de la clase Rutina\n",
    "rutina_dao = Rutina()\n",
    "\n",
    "# Insertar varias rutinas\n",
    "cantidad_insertadas = rutina_dao.insertar_varias_rutinas(rutinas_a_insertar)\n",
    "\n",
    "# Confirmar la inserción\n",
    "print(f\"\\nSe insertaron {cantidad_insertadas} rutinas con éxito.\")\n"
   ]
  },
  {
   "cell_type": "code",
   "execution_count": 4,
   "id": "5bae9200-ae5c-48de-900d-6ef69fb72d45",
   "metadata": {},
   "outputs": [
    {
     "name": "stdout",
     "output_type": "stream",
     "text": [
      "Rutinas de ejercicios:\n",
      "ID: 101, Nombre: Rutina de Fuerza, Objetivo: Aumentar masa muscular, Intensidad: Baja, Series/Repeticiones: 4, Descanso: 60 segundos\n",
      "\n",
      "ID: 102, Nombre: Rutina de Resistencia, Objetivo: Mejorar resistencia, Intensidad: Media, Series/Repeticiones: 3, Descanso: 45 segundos\n",
      "\n",
      "ID: 103, Nombre: Rutina de Flexibilidad, Objetivo: Aumentar flexibilidad, Intensidad: Baja, Series/Repeticiones: 5, Descanso: 30 segundos\n",
      "\n",
      "ID: 1032, Nombre: Rutina de Fuerza, Objetivo: Aumentar masa muscular, Intensidad: Baja, Series/Repeticiones: 4, Descanso: 60 segundos\n",
      "\n"
     ]
    }
   ],
   "source": [
    "#consultar todas las rutinas de ejercicios\n",
    "rutinas = Rutina.consultar_rutinas()\n",
    "\n",
    "# Listar las rutinas\n",
    "print(\"Rutinas de ejercicios:\")\n",
    "if rutinas:\n",
    "    for rutina in rutinas:\n",
    "        print(f\"ID: {rutina['_id']}, Nombre: {rutina['nombre_rutina']}, Objetivo: {rutina['objetivo']}, Intensidad: {rutina['tipo_intensidad']}, Series/Repeticiones: {rutina['cantidad_series_rep']}, Descanso: {rutina['tiempo_descanso']} segundos\\n\")\n",
    "else:\n",
    "    print(\"No se encontraron rutinas.\")\n"
   ]
  },
  {
   "cell_type": "code",
   "execution_count": 5,
   "id": "494eb9fb-60a0-4a30-84a7-d600d241710a",
   "metadata": {},
   "outputs": [
    {
     "name": "stdout",
     "output_type": "stream",
     "text": [
      "No se pudo asignar la rutina 1001 al cliente 005.\n"
     ]
    }
   ],
   "source": [
    "#asignar rutina\n",
    "\n",
    "# ID del cliente y de la rutina ya existente\n",
    "id_cliente = \"005\"  # ID del cliente\n",
    "id_rutina = \"1001\"  # ID de la rutina existente\n",
    "\n",
    "# Asignar la rutina existente al cliente\n",
    "Fit.asignar_rutina_a_cliente(id_cliente, id_rutina)\n"
   ]
  },
  {
   "cell_type": "code",
   "execution_count": 6,
   "id": "16440873-c49a-4a8d-8efb-bf65cdf049fc",
   "metadata": {},
   "outputs": [
    {
     "name": "stdout",
     "output_type": "stream",
     "text": [
      "Conexión establecida a MongoDB.\n",
      "\n",
      "Cliente: Juan Pérez\n",
      "Rutinas:\n",
      "  - ID Rutina: 101, Nombre: Rutina de Fuerza, Objetivo: Aumentar masa muscular, Intensidad: Baja, Series y Repeticiones: 4, Tiempo de Descanso: 60 segundos\n",
      "  - ID Rutina: 102, Nombre: Rutina de Resistencia, Objetivo: Mejorar resistencia, Intensidad: Media, Series y Repeticiones: 3, Tiempo de Descanso: 45 segundos\n",
      "  - ID Rutina: 103, Nombre: Rutina de Flexibilidad, Objetivo: Aumentar flexibilidad, Intensidad: Baja, Series y Repeticiones: 5, Tiempo de Descanso: 30 segundos\n",
      "  - ID Rutina: 1032, Nombre: Rutina de Fuerza, Objetivo: Aumentar masa muscular, Intensidad: Baja, Series y Repeticiones: 4, Tiempo de Descanso: 60 segundos\n"
     ]
    }
   ],
   "source": [
    "#Mostrar a los clientes con sus rutinas\n",
    "id_cliente = \"005\"\n",
    "\n",
    "# Crear una instancia de la clase Fit\n",
    "fit = Fit()\n",
    "\n",
    "# Llamar al método para consultar el cliente con rutinas\n",
    "fit.consultar_cliente_con_rutinas(id_cliente)\n"
   ]
  },
  {
   "cell_type": "code",
   "execution_count": null,
   "id": "f154a52d-4ac4-43d0-9078-65ce2af851ed",
   "metadata": {},
   "outputs": [],
   "source": []
  },
  {
   "cell_type": "code",
   "execution_count": null,
   "id": "45913448-46c1-4030-a5e1-af6bdfcb5f05",
   "metadata": {},
   "outputs": [],
   "source": []
  },
  {
   "cell_type": "code",
   "execution_count": null,
   "id": "02e315df-b0dc-420b-90ef-d6ff291a2a13",
   "metadata": {},
   "outputs": [],
   "source": []
  },
  {
   "cell_type": "code",
   "execution_count": null,
   "id": "b250abbf-5c6a-4d8e-abd8-c0ceaa05b8a6",
   "metadata": {},
   "outputs": [],
   "source": []
  },
  {
   "cell_type": "code",
   "execution_count": null,
   "id": "25a26fa2-0691-4780-a865-4ee656df63f6",
   "metadata": {},
   "outputs": [],
   "source": []
  },
  {
   "cell_type": "code",
   "execution_count": null,
   "id": "133f5f23-4eed-4cf8-b91f-adc0e67878db",
   "metadata": {},
   "outputs": [],
   "source": []
  },
  {
   "cell_type": "code",
   "execution_count": null,
   "id": "23a7f563-8db0-40c4-b65f-867c6fc1fef5",
   "metadata": {},
   "outputs": [],
   "source": []
  },
  {
   "cell_type": "code",
   "execution_count": null,
   "id": "a858be64-141b-4ac0-a21e-5cd6441c1ee1",
   "metadata": {},
   "outputs": [],
   "source": []
  },
  {
   "cell_type": "code",
   "execution_count": null,
   "id": "70efa52b-c733-42bf-bd28-1812f199b17a",
   "metadata": {},
   "outputs": [],
   "source": []
  },
  {
   "cell_type": "code",
   "execution_count": null,
   "id": "36c9ebd2-8b0f-4a16-8c1f-8bd68fc74e6b",
   "metadata": {},
   "outputs": [],
   "source": []
  }
 ],
 "metadata": {
  "kernelspec": {
   "display_name": "Python 3 (ipykernel)",
   "language": "python",
   "name": "python3"
  },
  "language_info": {
   "codemirror_mode": {
    "name": "ipython",
    "version": 3
   },
   "file_extension": ".py",
   "mimetype": "text/x-python",
   "name": "python",
   "nbconvert_exporter": "python",
   "pygments_lexer": "ipython3",
   "version": "3.12.2"
  }
 },
 "nbformat": 4,
 "nbformat_minor": 5
}
